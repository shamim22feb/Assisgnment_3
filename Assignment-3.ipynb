{
 "cells": [
  {
   "cell_type": "markdown",
   "metadata": {},
   "source": [
    "**Task 1:\n",
    "\n",
    "**Q1.\n",
    "**Write a function to compute 5/0 and use try/except to catch the exceptions."
   ]
  },
  {
   "cell_type": "code",
   "execution_count": 4,
   "metadata": {},
   "outputs": [
    {
     "name": "stdout",
     "output_type": "stream",
     "text": [
      "Divison by Zero not possible\n"
     ]
    }
   ],
   "source": [
    "def try_func (a,b):\n",
    "    try:\n",
    "        c=a/b\n",
    "    except :\n",
    "        return \"Divison by Zero not possible\"\n",
    "    return c\n",
    "\n",
    "print(try_func(3,0))\n",
    "    "
   ]
  },
  {
   "cell_type": "markdown",
   "metadata": {},
   "source": [
    "**Q2.\n",
    "Implement a Python program to generate all sentences where subject is in [\"Americans\",\n",
    "\"Indians\"] and verb is in [\"Play\", \"watch\"] and the object is in [\"Baseball\",\"cricket\"].\n",
    "Hint: Subject,Verb and Object should be declared in the program as shown below.\n",
    "subjects=[\"Americans \",\"Indians\"]\n",
    "verbs=[\"play\",\"watch\"]\n",
    "objects=[\"Baseball\",\"Cricket\"]\n",
    "\n",
    "**Output should come as below:\n",
    "Americans play Baseball.\n",
    "Americans play Cricket.\n",
    "Americans watch Baseball.\n",
    "Americans watch Cricket.\n",
    "Indians play Baseball.\n",
    "Indians play Cricket.\n",
    "Indians watch Baseball.\n",
    "Indians watch Cricket."
   ]
  },
  {
   "cell_type": "code",
   "execution_count": 4,
   "metadata": {},
   "outputs": [
    {
     "name": "stdout",
     "output_type": "stream",
     "text": [
      "Americans Play Baseball\n",
      "Americans Play Cricket\n",
      "Americans watch Baseball\n",
      "Americans watch Cricket\n",
      "Indians Play Baseball\n",
      "Indians Play Cricket\n",
      "Indians watch Baseball\n",
      "Indians watch Cricket\n"
     ]
    }
   ],
   "source": [
    "subject= [\"Americans\", \"Indians\"]\n",
    "verb= [\"Play\", \"watch\"] \n",
    "objects=[\"Baseball\",\"Cricket\"]\n",
    "\n",
    "\n",
    "for s in subject:\n",
    "    for v in verb:\n",
    "        for o in objects:\n",
    "            str=s+\" \"+v+\" \"+o\n",
    "            print(str)"
   ]
  },
  {
   "cell_type": "markdown",
   "metadata": {},
   "source": [
    "**Task 2:\n",
    "Q 1.\n",
    "Write a function so that the columns of the output matrix are powers of the input vector.\n",
    "The order of the powers is determined by the increasing boolean argument. Specifically, when\n",
    "increasing is False, the i-th output column is the input vector raised element-wise to the power\n",
    "of N - i - 1."
   ]
  },
  {
   "cell_type": "code",
   "execution_count": 23,
   "metadata": {},
   "outputs": [
    {
     "name": "stdout",
     "output_type": "stream",
     "text": [
      "1 1 1 1 1 \n",
      "1 2 4 8 16 \n",
      "1 3 9 27 81 \n",
      "1 4 16 64 256 \n",
      "1 5 25 125 625 \n"
     ]
    }
   ],
   "source": [
    "def vandermode(array,n,increasing):\n",
    "    mat=[]\n",
    "    if increasing ==False:\n",
    "        for i in range(n):\n",
    "            a=[]\n",
    "            for j in range(n):\n",
    "                a.append(array[j]**(n-i-1))\n",
    "                #print(a)\n",
    "            mat.append(a)\n",
    "    else:\n",
    "        for i in range(n):\n",
    "            a=[]\n",
    "            for j in range(n):\n",
    "                a.append(array[j]**(i))\n",
    "                #print(a)\n",
    "            mat.append(a)\n",
    "        \n",
    "    return mat\n",
    "\n",
    "    \n",
    "new_mat=vandermode([1,2,3,4,5],5,True)\n",
    "\n",
    "for r in range(5):\n",
    "    for c in range(5):\n",
    "        print(new_mat[c][r],end=\" \")\n",
    "    print(end=\"\\n\")"
   ]
  },
  {
   "cell_type": "code",
   "execution_count": null,
   "metadata": {},
   "outputs": [],
   "source": []
  }
 ],
 "metadata": {
  "kernelspec": {
   "display_name": "Python 3",
   "language": "python",
   "name": "python3"
  },
  "language_info": {
   "codemirror_mode": {
    "name": "ipython",
    "version": 3
   },
   "file_extension": ".py",
   "mimetype": "text/x-python",
   "name": "python",
   "nbconvert_exporter": "python",
   "pygments_lexer": "ipython3",
   "version": "3.7.3"
  }
 },
 "nbformat": 4,
 "nbformat_minor": 2
}
